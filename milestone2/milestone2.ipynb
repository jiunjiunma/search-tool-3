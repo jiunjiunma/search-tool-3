{
 "cells": [
  {
   "cell_type": "code",
   "execution_count": 1,
   "metadata": {},
   "outputs": [],
   "source": [
    "import json\n",
    "from elasticsearch import Elasticsearch"
   ]
  },
  {
   "cell_type": "code",
   "execution_count": 4,
   "metadata": {},
   "outputs": [
    {
     "name": "stdout",
     "output_type": "stream",
     "text": [
      "{\r\n",
      "  \"name\" : \"es01\",\r\n",
      "  \"cluster_name\" : \"es-docker-cluster\",\r\n",
      "  \"cluster_uuid\" : \"esmw9d6xTkay_4OD0qAXAA\",\r\n",
      "  \"version\" : {\r\n",
      "    \"number\" : \"7.14.0\",\r\n",
      "    \"build_flavor\" : \"default\",\r\n",
      "    \"build_type\" : \"docker\",\r\n",
      "    \"build_hash\" : \"dd5a0a2acaa2045ff9624f3729fc8a6f40835aa1\",\r\n",
      "    \"build_date\" : \"2021-07-29T20:49:32.864135063Z\",\r\n",
      "    \"build_snapshot\" : false,\r\n",
      "    \"lucene_version\" : \"8.9.0\",\r\n",
      "    \"minimum_wire_compatibility_version\" : \"6.8.0\",\r\n",
      "    \"minimum_index_compatibility_version\" : \"6.0.0-beta1\"\r\n",
      "  },\r\n",
      "  \"tagline\" : \"You Know, for Search\"\r\n",
      "}\r\n"
     ]
    }
   ],
   "source": [
    "# check ES is up\n",
    "!curl localhost:9200"
   ]
  },
  {
   "cell_type": "code",
   "execution_count": 5,
   "metadata": {},
   "outputs": [
    {
     "name": "stderr",
     "output_type": "stream",
     "text": [
      "/Users/jiunjiunma/anaconda3/envs/py38/lib/python3.8/site-packages/elasticsearch/connection/base.py:208: ElasticsearchWarning: Elasticsearch built-in security features are not enabled. Without authentication, your cluster could be accessible to anyone. See https://www.elastic.co/guide/en/elasticsearch/reference/7.14/security-minimal-setup.html to enable security.\n",
      "  warnings.warn(message, category=ElasticsearchWarning)\n"
     ]
    },
    {
     "data": {
      "text/plain": [
       "{'name': 'es01',\n",
       " 'cluster_name': 'es-docker-cluster',\n",
       " 'cluster_uuid': 'esmw9d6xTkay_4OD0qAXAA',\n",
       " 'version': {'number': '7.14.0',\n",
       "  'build_flavor': 'default',\n",
       "  'build_type': 'docker',\n",
       "  'build_hash': 'dd5a0a2acaa2045ff9624f3729fc8a6f40835aa1',\n",
       "  'build_date': '2021-07-29T20:49:32.864135063Z',\n",
       "  'build_snapshot': False,\n",
       "  'lucene_version': '8.9.0',\n",
       "  'minimum_wire_compatibility_version': '6.8.0',\n",
       "  'minimum_index_compatibility_version': '6.0.0-beta1'},\n",
       " 'tagline': 'You Know, for Search'}"
      ]
     },
     "execution_count": 5,
     "metadata": {},
     "output_type": "execute_result"
    }
   ],
   "source": [
    "es = Elasticsearch()\n",
    "es.info()"
   ]
  },
  {
   "cell_type": "code",
   "execution_count": 8,
   "metadata": {},
   "outputs": [
    {
     "name": "stdout",
     "output_type": "stream",
     "text": [
      "number of document in index =  401\n"
     ]
    }
   ],
   "source": [
    "# check data we load in milestone1 are still there\n",
    "response = es.search(\n",
    "    index=\"cdc\",\n",
    "    body= {\n",
    "        \"query\": {\n",
    "            \"match_all\": {}\n",
    "        },\n",
    "    },\n",
    ")\n",
    "\n",
    "print(\"number of documents in index = \", response['hits']['total']['value'])"
   ]
  },
  {
   "cell_type": "code",
   "execution_count": 10,
   "metadata": {},
   "outputs": [
    {
     "name": "stdout",
     "output_type": "stream",
     "text": [
      "number of documents satisfied query =  166\n"
     ]
    }
   ],
   "source": [
    "# try a match query\n",
    "response = es.search(\n",
    "    index=\"cdc\",\n",
    "    body= {\n",
    "        \"query\": {\n",
    "            \"match\": {\n",
    "                \"text\": \"World Health Organization\"\n",
    "            }\n",
    "        },\n",
    "    },\n",
    ")\n",
    "\n",
    "print(\"number of documents satisfied query = \", response['hits']['total']['value'])"
   ]
  },
  {
   "cell_type": "code",
   "execution_count": 18,
   "metadata": {},
   "outputs": [
    {
     "name": "stdout",
     "output_type": "stream",
     "text": [
      "number of documents satisfied query =  158\n",
      "score = 7.7753215\n",
      "section_title= Summary\n",
      "score = 7.602386\n",
      "section_title= Further reading\n",
      "score = 7.26242\n",
      "section_title= Data and graphs\n",
      "score = 7.253867\n",
      "section_title= Health agencies\n",
      "score = 6.9860735\n",
      "section_title= Zika virus\n",
      "score = 6.6351795\n",
      "section_title= History of Human diseases\n",
      "score = 6.5220504\n",
      "section_title= Severe acute respiratory syndrome\n",
      "score = 5.9988565\n",
      "section_title= Antiviral therapy\n",
      "score = 5.942991\n",
      "section_title= Mother-to-child\n",
      "score = 5.792868\n",
      "section_title= Vaccination\n"
     ]
    }
   ],
   "source": [
    "# try a match query and a term filter\n",
    "response = es.search(\n",
    "    index=\"cdc\",\n",
    "    body= {\n",
    "        \"query\": {\n",
    "            \"bool\": {\n",
    "              \"must\": {\n",
    "                \"match\": { \"text\": \"World Health Organization\" }\n",
    "              },\n",
    "              \"must_not\": { \n",
    "                  # section_title imported as text, need to add '.keyword' for term query\n",
    "                  \"term\": { \"section_title.keyword\" : \"External links\" }\n",
    "              }\n",
    "            }\n",
    "        },\n",
    "        \"_source\": \"section_title\"\n",
    "    }\n",
    ")\n",
    "\n",
    "print(\"number of documents satisfied query = \", response['hits']['total']['value'])\n",
    "# print top 10 results\n",
    "for doc in response['hits']['hits']:\n",
    "    print(\"score =\", doc['_score'])\n",
    "    print(\"section_title=\", doc['_source']['section_title'])"
   ]
  },
  {
   "cell_type": "code",
   "execution_count": 23,
   "metadata": {},
   "outputs": [
    {
     "name": "stdout",
     "output_type": "stream",
     "text": [
      "number of documents satisfied query =  43\n",
      "score = 11.069967\n",
      "section_title= Summary\n",
      "score = 10.229466\n",
      "section_title= Summary\n",
      "score = 9.171614\n",
      "section_title= Influenza\n",
      "score = 8.41239\n",
      "section_title= In popular culture\n",
      "score = 7.022901\n",
      "section_title= H5N1 (Avian flu)\n",
      "score = 6.203658\n",
      "section_title= Guidelines\n",
      "score = 5.7174244\n",
      "section_title= Summary\n",
      "score = 5.680986\n",
      "section_title= Later\n",
      "score = 4.6167145\n",
      "section_title= Typhus\n",
      "score = 4.179197\n",
      "section_title= Humans\n"
     ]
    }
   ],
   "source": [
    "#now let's boost doc whose section_title == 'Summary'\n",
    "# try a match query and a term filter\n",
    "response = es.search(\n",
    "    index=\"cdc\",\n",
    "    body= {\n",
    "        \"query\": {\n",
    "            \"bool\": {\n",
    "              \"must\": {\n",
    "                \"match\": { \"text\": \"Spanish flu\" }\n",
    "              },\n",
    "              \"must_not\": { \n",
    "                  # section_title imported as text, need to add '.keyword' for term query\n",
    "                  \"term\": { \"section_title.keyword\" : \"External links\" }\n",
    "              },\n",
    "              \"should\": {\n",
    "                  \"match\": {\n",
    "                      \"section_title\": 'Summary'\n",
    "                  }\n",
    "              }\n",
    "            }\n",
    "        },\n",
    "        \"_source\": \"section_title\"\n",
    "    }\n",
    ")\n",
    "\n",
    "print(\"number of documents satisfied query = \", response['hits']['total']['value'])\n",
    "# print top 10 results\n",
    "for doc in response['hits']['hits']:\n",
    "    print(\"score =\", doc['_score'])\n",
    "    print(\"section_title=\", doc['_source']['section_title'])"
   ]
  },
  {
   "cell_type": "code",
   "execution_count": 24,
   "metadata": {},
   "outputs": [
    {
     "name": "stdout",
     "output_type": "stream",
     "text": [
      "number of documents satisfied query =  43\n",
      "score = 11.069967\n",
      "highlight =  {'section_title': ['<em>Summary</em>'], 'text': ['If transmission does cause human <em>flu</em>, it is called zoonotic swine <em>flu</em>.', 'People with regular exposure to pigs are at increased risk of swine <em>flu</em> infection.', 'These strains of swine <em>flu</em> rarely pass from human to human.', 'or around 700 million to 1.4 billion people, contracted the illness—more in absolute terms than the <em>Spanish</em>', '<em>flu</em> pandemic.']}\n",
      "section_title= Summary\n",
      "score = 10.229466\n",
      "highlight =  {'section_title': ['<em>Summary</em>'], 'text': ['The term was not used yet but was for later pandemics including the 1918 influenza pandemic (<em>Spanish</em>', '<em>flu</em>).']}\n",
      "section_title= Summary\n",
      "score = 9.171614\n",
      "highlight =  {'text': ['The 1889–1890 <em>flu</em> pandemic, also known as Russian <em>Flu</em> or Asiatic <em>Flu</em>, was first reported in May 1889', 'The \"<em>Spanish</em> <em>flu</em>\", 1918–1919.', 'The virus that caused <em>Spanish</em> <em>flu</em> was also implicated as a cause of encephalitis lethargica in children', 'The H1N1 virus has a small but crucial structure that is similar to the <em>Spanish</em> <em>flu</em>.', 'The \"Hong Kong <em>Flu</em>\", 1968–69.']}\n",
      "section_title= Influenza\n",
      "score = 8.41239\n",
      "highlight =  {'text': [', hosted for the centenary of the <em>Spanish</em> <em>flu</em> epidemic from 1918.The term features in the title of several']}\n",
      "section_title= In popular culture\n",
      "score = 7.022901\n",
      "highlight =  {'text': ['Pandemic,Concerns about future pandemics,Concerning diseases,H5N1 (Avian <em>flu</em>)\\nIn February 2004, avian', 'Such a subtype could cause a global influenza pandemic, similar to the <em>Spanish</em> <em>flu</em> or the lower mortality', 'pandemics such as the Asian <em>Flu</em> and the Hong Kong <em>Flu</em>.', 'From October 2004 to February 2005, some 3,700 test kits of the 1957 Asian <em>Flu</em> virus were accidentally', 'Cases of bird <em>flu</em> were also identified shortly thereafter in Romania, and then Greece.']}\n",
      "section_title= H5N1 (Avian flu)\n",
      "score = 6.203658\n",
      "highlight =  {'text': ['Scale, the PSI ranges from 1 to 5, with Category 1 pandemics being most mild (equivalent to seasonal <em>flu</em>', ') and level 5 being reserved for the most severe \"worst-case\" scenario pandemics (such as the 1918 <em>Spanish</em>', '<em>flu</em>).']}\n",
      "section_title= Guidelines\n",
      "score = 5.7174244\n",
      "highlight =  {'section_title': ['<em>Summary</em>'], 'text': ['UVIS also contains a Pandemic <em>Flu</em> module to prepare against such an eventuality.']}\n",
      "section_title= Summary\n",
      "score = 5.680986\n",
      "highlight =  {'text': ['The winter of 1929 was also witnessing an influenza epidemic and there were fears of a recurrence of <em>Spanish</em>', '<em>flu</em>,which added to the depressive effects.']}\n",
      "section_title= Later\n",
      "score = 4.6167145\n",
      "highlight =  {'text': ['During fighting between the Christian Spaniards and the Muslims in Granada, the <em>Spanish</em> lost 3,000 to', 'In 1528, the French lost 18,000 troops in Italy, and lost supremacy in Italy to the <em>Spanish</em>.']}\n",
      "section_title= Typhus\n",
      "score = 4.179197\n",
      "highlight =  {'text': ['Swine influenza,Signs and symptoms,Humans\\nDirect transmission of a swine <em>flu</em> virus from pigs to humans', 'is occasionally possible (zoonotic swine <em>flu</em>).', 'States Centers for Disease Control and Prevention (CDC), in humans the symptoms of the 2009 \"swine <em>flu</em>', 'The 2009 H1N1 virus is not zoonotic swine <em>flu</em>, as it is not transmitted from pigs to humans, but from', 'diagnosis of probable swine <em>flu</em> requires not only symptoms, but also a high likelihood of swine <em>flu</em>']}\n",
      "section_title= Humans\n"
     ]
    }
   ],
   "source": [
    "# now let's add highlight\n",
    "response = es.search(\n",
    "    index=\"cdc\",\n",
    "    body= {\n",
    "        \"query\": {\n",
    "            \"bool\": {\n",
    "              \"must\": {\n",
    "                \"match\": { \"text\": \"Spanish flu\" }\n",
    "              },\n",
    "              \"must_not\": { \n",
    "                  # section_title imported as text, need to add '.keyword' for term query\n",
    "                  \"term\": { \"section_title.keyword\" : \"External links\" }\n",
    "              },\n",
    "              \"should\": {\n",
    "                  \"match\": {\n",
    "                      \"section_title\": 'Summary'\n",
    "                  }\n",
    "              }\n",
    "            }\n",
    "        },\n",
    "        \"_source\": [\"section_title\", \"text\"],\n",
    "        \"highlight\": {\n",
    "            \"fields\": {\n",
    "              \"text\": {},\n",
    "              \"section_title\": {}\n",
    "            }\n",
    "        }\n",
    "    }\n",
    ")\n",
    "\n",
    "print(\"number of documents satisfied query = \", response['hits']['total']['value'])\n",
    "# print top 10 results\n",
    "for doc in response['hits']['hits']:\n",
    "    print(\"score =\", doc['_score'])\n",
    "    print(\"highlight = \", doc['highlight'])\n",
    "    print(\"section_title=\", doc['_source']['section_title'])"
   ]
  },
  {
   "cell_type": "code",
   "execution_count": null,
   "metadata": {},
   "outputs": [],
   "source": []
  }
 ],
 "metadata": {
  "kernelspec": {
   "display_name": "Python 3",
   "language": "python",
   "name": "python3"
  },
  "language_info": {
   "codemirror_mode": {
    "name": "ipython",
    "version": 3
   },
   "file_extension": ".py",
   "mimetype": "text/x-python",
   "name": "python",
   "nbconvert_exporter": "python",
   "pygments_lexer": "ipython3",
   "version": "3.8.8"
  }
 },
 "nbformat": 4,
 "nbformat_minor": 2
}
