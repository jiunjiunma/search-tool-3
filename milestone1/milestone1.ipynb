{
 "cells": [
  {
   "cell_type": "code",
   "execution_count": 29,
   "id": "8e4c2673",
   "metadata": {},
   "outputs": [],
   "source": [
    "import json\n",
    "from elasticsearch import Elasticsearch\n",
    "from elasticsearch.helpers import bulk"
   ]
  },
  {
   "cell_type": "code",
   "execution_count": 30,
   "id": "87b4c05a",
   "metadata": {},
   "outputs": [
    {
     "name": "stdout",
     "output_type": "stream",
     "text": [
      "401\n",
      "{'section_title': 'Summary', 'text': 'Pandemic,Summary\\nA pandemic (from Greek πᾶν, pan, \"all\" and δῆμος, demos, \"people\") is an epidemic of an infectious disease that has spread across a large region, for instance multiple continents or worldwide, affecting a substantial number of people. A widespread endemic disease with a stable number of infected people is not a pandemic. Widespread endemic diseases with a stable number of infected people such as recurrences of seasonal influenza are generally excluded as they occur simultaneously in large regions of the globe rather than being spread worldwide.\\nThroughout human history, there have been a number of pandemics of diseases such as smallpox and tuberculosis. The most fatal pandemic in recorded history was the Black Death (also known as The Plague), which killed an estimated 75–200 million people in the 14th century. The term was not used yet but was for later pandemics including the 1918 influenza pandemic (Spanish flu). Current pandemics include COVID-19 (SARS-CoV-2) and HIV/AIDS.', 'main_section': 'Summary', 'article_title': 'Pandemic', 'source_url': 'https://en.wikipedia.org/wiki/Pandemic', 'page_id': 24255, 'tags': 'Pandemic,Summary', 'section_number': 0}\n"
     ]
    }
   ],
   "source": [
    "with open(\"../data.json\") as f:\n",
    "    documents = json.load(f)\n",
    "    \n",
    "print(len(documents))\n",
    "print(documents[0])"
   ]
  },
  {
   "cell_type": "code",
   "execution_count": 31,
   "id": "77962311",
   "metadata": {},
   "outputs": [],
   "source": [
    "es = Elasticsearch()"
   ]
  },
  {
   "cell_type": "code",
   "execution_count": 32,
   "id": "2d9b461c",
   "metadata": {},
   "outputs": [
    {
     "data": {
      "text/plain": [
       "(401, [])"
      ]
     },
     "execution_count": 32,
     "metadata": {},
     "output_type": "execute_result"
    }
   ],
   "source": [
    "def gendata(documents):\n",
    "    for document in documents:\n",
    "        yield {\n",
    "            '_op_type': 'create',\n",
    "            \"_index\": \"cdc\",\n",
    "            \"_source\" : document\n",
    "        }\n",
    "bulk(es, gendata(documents))"
   ]
  },
  {
   "cell_type": "code",
   "execution_count": 33,
   "id": "e4837c09",
   "metadata": {},
   "outputs": [],
   "source": [
    "# es.indices.get_alias(\"*\")\n",
    "# es.cat.count('cdc', params={\"format\": \"json\"})\n",
    "\n",
    "# check if an index exists and returns number of documents in the index\n",
    "def check_existed(index):\n",
    "    indices = es.indices.get_alias(\"*\")\n",
    "    if index in indices:\n",
    "        result = es.cat.count(index, params={\"format\": \"json\"})\n",
    "        return (True, result[0]['count'])\n",
    "    else:\n",
    "        return (False, 0)"
   ]
  },
  {
   "cell_type": "code",
   "execution_count": 34,
   "id": "eca62978",
   "metadata": {},
   "outputs": [
    {
     "name": "stdout",
     "output_type": "stream",
     "text": [
      "Index existed?  True\n",
      "Number of Documented = 401\n"
     ]
    },
    {
     "name": "stderr",
     "output_type": "stream",
     "text": [
      "/Users/jiunjiunma/anaconda3/envs/py38/lib/python3.8/site-packages/elasticsearch/connection/base.py:208: ElasticsearchWarning: this request accesses system indices: [.kibana_task_manager_7.14.0_001, .kibana_7.14.0_001, .apm-custom-link, .apm-agent-configuration], but in a future major version, direct access to system indices will be prevented by default\n",
      "  warnings.warn(message, category=ElasticsearchWarning)\n"
     ]
    }
   ],
   "source": [
    "existed, doc_count = check_existed('cdc')\n",
    "print(\"Index existed? \", existed)\n",
    "print(\"Number of Documented =\", doc_count)"
   ]
  },
  {
   "cell_type": "code",
   "execution_count": null,
   "id": "4f804b17",
   "metadata": {},
   "outputs": [],
   "source": []
  }
 ],
 "metadata": {
  "kernelspec": {
   "display_name": "Python 3",
   "language": "python",
   "name": "python3"
  },
  "language_info": {
   "codemirror_mode": {
    "name": "ipython",
    "version": 3
   },
   "file_extension": ".py",
   "mimetype": "text/x-python",
   "name": "python",
   "nbconvert_exporter": "python",
   "pygments_lexer": "ipython3",
   "version": "3.8.8"
  }
 },
 "nbformat": 4,
 "nbformat_minor": 5
}
