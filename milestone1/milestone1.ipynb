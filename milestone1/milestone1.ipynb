{
 "cells": [
  {
   "cell_type": "code",
   "execution_count": 29,
   "id": "e2d9497d",
   "metadata": {},
   "outputs": [],
   "source": [
    "import json\n",
    "from elasticsearch import Elasticsearch\n",
    "from elasticsearch.helpers import bulk"
   ]
  },
  {
   "cell_type": "code",
   "execution_count": 36,
   "id": "60f864f1",
   "metadata": {},
   "outputs": [
    {
     "name": "stdout",
     "output_type": "stream",
     "text": [
      "{\r\n",
      "  \"name\" : \"es01\",\r\n",
      "  \"cluster_name\" : \"es-docker-cluster\",\r\n",
      "  \"cluster_uuid\" : \"esmw9d6xTkay_4OD0qAXAA\",\r\n",
      "  \"version\" : {\r\n",
      "    \"number\" : \"7.14.0\",\r\n",
      "    \"build_flavor\" : \"default\",\r\n",
      "    \"build_type\" : \"docker\",\r\n",
      "    \"build_hash\" : \"dd5a0a2acaa2045ff9624f3729fc8a6f40835aa1\",\r\n",
      "    \"build_date\" : \"2021-07-29T20:49:32.864135063Z\",\r\n",
      "    \"build_snapshot\" : false,\r\n",
      "    \"lucene_version\" : \"8.9.0\",\r\n",
      "    \"minimum_wire_compatibility_version\" : \"6.8.0\",\r\n",
      "    \"minimum_index_compatibility_version\" : \"6.0.0-beta1\"\r\n",
      "  },\r\n",
      "  \"tagline\" : \"You Know, for Search\"\r\n",
      "}\r\n"
     ]
    }
   ],
   "source": [
    "!curl localhost:9200"
   ]
  },
  {
   "cell_type": "code",
   "execution_count": 30,
   "id": "7b43e158",
   "metadata": {},
   "outputs": [
    {
     "name": "stdout",
     "output_type": "stream",
     "text": [
      "401\n",
      "{'section_title': 'Summary', 'text': 'Pandemic,Summary\\nA pandemic (from Greek πᾶν, pan, \"all\" and δῆμος, demos, \"people\") is an epidemic of an infectious disease that has spread across a large region, for instance multiple continents or worldwide, affecting a substantial number of people. A widespread endemic disease with a stable number of infected people is not a pandemic. Widespread endemic diseases with a stable number of infected people such as recurrences of seasonal influenza are generally excluded as they occur simultaneously in large regions of the globe rather than being spread worldwide.\\nThroughout human history, there have been a number of pandemics of diseases such as smallpox and tuberculosis. The most fatal pandemic in recorded history was the Black Death (also known as The Plague), which killed an estimated 75–200 million people in the 14th century. The term was not used yet but was for later pandemics including the 1918 influenza pandemic (Spanish flu). Current pandemics include COVID-19 (SARS-CoV-2) and HIV/AIDS.', 'main_section': 'Summary', 'article_title': 'Pandemic', 'source_url': 'https://en.wikipedia.org/wiki/Pandemic', 'page_id': 24255, 'tags': 'Pandemic,Summary', 'section_number': 0}\n"
     ]
    }
   ],
   "source": [
    "with open(\"../data.json\") as f:\n",
    "    documents = json.load(f)\n",
    "    \n",
    "print(len(documents))\n",
    "print(documents[0])"
   ]
  },
  {
   "cell_type": "code",
   "execution_count": 31,
   "id": "32387a8f",
   "metadata": {},
   "outputs": [],
   "source": [
    "es = Elasticsearch()"
   ]
  },
  {
   "cell_type": "code",
   "execution_count": 32,
   "id": "0903d55e",
   "metadata": {},
   "outputs": [
    {
     "data": {
      "text/plain": [
       "(401, [])"
      ]
     },
     "execution_count": 32,
     "metadata": {},
     "output_type": "execute_result"
    }
   ],
   "source": [
    "def gendata(documents):\n",
    "    for document in documents:\n",
    "        yield {\n",
    "            '_op_type': 'create',\n",
    "            \"_index\": \"cdc\",\n",
    "            \"_source\" : document\n",
    "        }\n",
    "bulk(es, gendata(documents))"
   ]
  },
  {
   "cell_type": "code",
   "execution_count": 33,
   "id": "8dd10ffe",
   "metadata": {},
   "outputs": [],
   "source": [
    "# es.indices.get_alias(\"*\")\n",
    "# es.cat.count('cdc', params={\"format\": \"json\"})\n",
    "\n",
    "# check if an index exists and returns number of documents in the index\n",
    "def check_existed(index):\n",
    "    indices = es.indices.get_alias(\"*\")\n",
    "    if index in indices:\n",
    "        result = es.cat.count(index, params={\"format\": \"json\"})\n",
    "        return (True, result[0]['count'])\n",
    "    else:\n",
    "        return (False, 0)"
   ]
  },
  {
   "cell_type": "code",
   "execution_count": 38,
   "id": "262b7f53",
   "metadata": {},
   "outputs": [
    {
     "name": "stdout",
     "output_type": "stream",
     "text": [
      "Index 'cdc' existed?  True\n",
      "Number of Documented = 401\n"
     ]
    },
    {
     "name": "stderr",
     "output_type": "stream",
     "text": [
      "/Users/jiunjiunma/anaconda3/envs/py38/lib/python3.8/site-packages/elasticsearch/connection/base.py:208: ElasticsearchWarning: this request accesses system indices: [.kibana_7.14.0_001, .kibana_task_manager_7.14.0_001, .tasks, .apm-agent-configuration, .apm-custom-link], but in a future major version, direct access to system indices will be prevented by default\n",
      "  warnings.warn(message, category=ElasticsearchWarning)\n"
     ]
    }
   ],
   "source": [
    "existed, doc_count = check_existed('cdc')\n",
    "print(\"Index 'cdc' existed? \", existed)\n",
    "print(\"Number of Documented =\", doc_count)"
   ]
  },
  {
   "cell_type": "code",
   "execution_count": 39,
   "id": "1188ce8e",
   "metadata": {},
   "outputs": [
    {
     "name": "stdout",
     "output_type": "stream",
     "text": [
      "Stopping es03  ... \n",
      "Stopping es01  ... \n",
      "Stopping kib01 ... \n",
      "Stopping es02  ... \n",
      "\u001b[2Bping kib01 ... \u001b[32mdone\u001b[0m\u001b[3A\u001b[2K\u001b[2A\u001b[2KRemoving es03  ... \n",
      "Removing es01  ... \n",
      "Removing kib01 ... \n",
      "Removing es02  ... \n",
      "\u001b[1BRemoving network search-tool-3_elastic\n"
     ]
    }
   ],
   "source": [
    "!docker-compose down"
   ]
  },
  {
   "cell_type": "code",
   "execution_count": null,
   "id": "4f868d7e",
   "metadata": {},
   "outputs": [],
   "source": []
  }
 ],
 "metadata": {
  "kernelspec": {
   "display_name": "Python 3",
   "language": "python",
   "name": "python3"
  },
  "language_info": {
   "codemirror_mode": {
    "name": "ipython",
    "version": 3
   },
   "file_extension": ".py",
   "mimetype": "text/x-python",
   "name": "python",
   "nbconvert_exporter": "python",
   "pygments_lexer": "ipython3",
   "version": "3.8.8"
  }
 },
 "nbformat": 4,
 "nbformat_minor": 5
}
